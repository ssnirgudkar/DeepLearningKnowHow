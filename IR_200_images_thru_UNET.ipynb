{
  "nbformat": 4,
  "nbformat_minor": 0,
  "metadata": {
    "accelerator": "GPU",
    "colab": {
      "name": "IR_200 images thru UNET",
      "provenance": [],
      "collapsed_sections": [],
      "include_colab_link": true
    },
    "kernelspec": {
      "display_name": "Python 3",
      "language": "python",
      "name": "python3"
    },
    "language_info": {
      "codemirror_mode": {
        "name": "ipython",
        "version": 3
      },
      "file_extension": ".py",
      "mimetype": "text/x-python",
      "name": "python",
      "nbconvert_exporter": "python",
      "pygments_lexer": "ipython3",
      "version": "3.7.0"
    }
  },
  "cells": [
    {
      "cell_type": "markdown",
      "metadata": {
        "id": "view-in-github",
        "colab_type": "text"
      },
      "source": [
        "<a href=\"https://colab.research.google.com/github/ssnirgudkar/DeepLearningKnowHow/blob/main/IR_200_images_thru_UNET.ipynb\" target=\"_parent\"><img src=\"https://colab.research.google.com/assets/colab-badge.svg\" alt=\"Open In Colab\"/></a>"
      ]
    },
    {
      "cell_type": "markdown",
      "metadata": {
        "id": "6o_-p5pVmn6r"
      },
      "source": [
        "1. no of classes if mentioned 3, then the labels **can only** have values of 0,1 and 2\n",
        "2. You can check the actual error using CPU, and not GPU\n",
        "3. softmax is good for image segmentation. it's a probablistic algorithm, so the losses also haev to be accordingly. all of the below are with softmax activation. optimizers are changed in the middle.  \n",
        "4. relu / leakyrelu, adam will work \n",
        "5. **Option 1-** leakyrelu - epoc 50, 62 images of which validation images 3. batch size 3 , kernel_initializer = 'he_normal'- , leakyrelu, sparse_categorical_crossentropy, optimizer - rmsprop: val_loss went from 87 to 0.2. But it was not continually reducing and was fluctutating.  Output segmentation was good. obstacles were showing up.\n",
        "6. **Option 2- **RELU, epoc 50, total images - 62, validation 3 images, sparse_categorical_crossentropy, kernel_initializer = 'he_normal', optimizer = rmsprop: Val_loss started from 127 and went to 0.08. was better converging than option 1, but still not always decreasing. Image output better than option 1\n",
        "7. Option 3: **RELU, epoc 50, total images - 62, validation 3 images, sparse_categorical_crossentropy, kernel_initializer = 'he_normal', optimizer = adam, defalt learn rate(lr): Val_loss started from 45 and went to 0.0528. The val loss continually decreased and converged. Image output better than option 1 and 2. Observations - reflection in water is shown as an obstacle. Bits of water are shown as cloud\n",
        "8. Option 4: **RELU, epoc 50, total images - 62, validation 3 images, categorical_crossentropy, kernel_initializer = 'he_normal', optimizer - adam, lr = 0.01: Val_loss started from 476 billion  and went to NAN in the 6th apoch. No segmentation output available. it was all black. Tried to change the loss to sparse_categorical_crossentropy with the same lr - 0.01, but the op was worse than that with default lr = 0.001  \n",
        "Kept the loss to sparse_categorical_crossentropy , but changed the lr to 0.005. That works comparable to lr = 0.001(default), but a touch lower. Some images are at par with default lr, some are not.   \n",
        "9. adam, lr = 0.001(default), softmax, kernel_initializer = 'uniform'. val_loss starts from 2.4 to 0.06. Some images with this are better than those using he_normal. \n",
        "**Recommendation - adam, sparse_categorical_crossentropy, relu, lr=. default = 0.001, kernal initilizer = 'he_normal' OR kernal initilizer = 'uniform'**\n",
        "\n",
        "Training results - \n",
        "1. Ran with 291 IR images (including night _ pilot IR. Mirror images of those + labeled) = 882 images in this directory. The checkpoint file is IR_1000images_uniform_adam_softmax_100_10.h5. Indictes, it was run for 1000 images, uniform kernel initializer, adam optimizer, softmax algo, 100 epochs with a batch size of 10. No of classes are 4 (0 thru 3). This was run with TPU. Per Epoc (86 batches with a batch size of 10 - estimate time was 10 min). Val_loss for epoc 1 was 5.0147 although average loss was 0.3 for each batch. Then ran with GPU to see which one to go with. GPU checking the unique label value took lot of time for 800 images. However, the training time - 1 epoch 1st batch with 86 batches with a batch size of 10 - estimate was only 2 min. Val loss was 7 although loss was 0.1. So GPU was much faster for training than TPU.Also TPU libraries to be imported change, plus TPU gives verbose explanbation of error as against GPU that just says NAN\n",
        "\n",
        "Results - \n",
        "Run1: 676 images with GPU and above configuration took 28 min - and val_loss was 0.0708 after 100 epocs. No of classes -3 , batchsize 10. Model uploaded to my google drive - https://drive.google.com/file/d/1bP6M-6w-dMHKRq3EbXULGATXGlLsdS6e/view?usp=sharing\n",
        "Run2 - same as run1. But added tensorboard callbacks. Model op file name -  IR_1000images_uniform_adam_softmax_relu_100_10_1.h5. var_loss - 0.0618\n",
        "\n",
        "Inferecnce - Night time images (loss = 0.0147) - for paper on July end \n",
        "1. Ran 3 night time images that were segmented so that we can compare the groundtruth with inference. 4 IR images that were not segmented, so that we can see their inference straight. And then all these 7 optical color images. All were resized. - /content/drive/MyDrive/poorlighting_nighttime_resized\n",
        "\n",
        "2. Ran 5 optical images where there is bright sunlight. these were not used in segmentation - /content/drive/MyDrive/poorlighting_brightlight_resized. Val loss - 0.0195\n",
        "\n",
        "3. Updated the inferred image from gray to color - so that it can be used in papers.\n",
        "\n",
        "4. unform - epoc 100 - was showing spikes. tensor board logs were also with profile batch = 2. removing that. So trying with epoch = 300, he_normal.\n",
        "\n",
        "# Now i save model from run1, and use that saved model to restart training in run2. so each time i run, the model is getting retrained. i need to be careful that if i am running a test (w/o good data), i shld not save the model, else it will corrupt the earlier learning. "
      ]
    },
    {
      "cell_type": "markdown",
      "metadata": {
        "id": "754aS1YJgOVn"
      },
      "source": [
        "# Image segmentation with a U-Net-like architecture\n",
        "\n",
        "**Author:** [fchollet](https://twitter.com/fchollet)<br>\n",
        "**Date created:** 2019/03/20<br>\n",
        "**Last modified:** 2020/04/20<br>\n",
        "**Description:** Image segmentation model trained from scratch on the Oxford Pets dataset."
      ]
    },
    {
      "cell_type": "markdown",
      "metadata": {
        "id": "mQcQdRZQgOVo"
      },
      "source": [
        "## Download the data"
      ]
    },
    {
      "cell_type": "code",
      "metadata": {
        "id": "jTVPl0nyi9Ms",
        "colab": {
          "base_uri": "https://localhost:8080/"
        },
        "outputId": "82915b38-2385-4a88-a0bf-b64f80332a14"
      },
      "source": [
        "from google.colab import drive\n",
        "drive.mount('/content/drive', force_remount = True)\n",
        "!cd \"drive/My Drive/PhD/IRLabeledDataset\""
      ],
      "execution_count": 2,
      "outputs": [
        {
          "output_type": "stream",
          "text": [
            "Mounted at /content/drive\n",
            "/bin/bash: line 0: cd: drive/My Drive/PhD/IRLabeledDataset: No such file or directory\n"
          ],
          "name": "stdout"
        }
      ]
    },
    {
      "cell_type": "markdown",
      "metadata": {
        "id": "yQgZp6JWgOVp"
      },
      "source": [
        "## Prepare paths of input images and target segmentation masks"
      ]
    },
    {
      "cell_type": "code",
      "metadata": {
        "id": "hKBranBjhihg"
      },
      "source": [
        "'''this is a test code to check syntax \n",
        "flag = 0 \n",
        "ideal_label_array = [0,1,2,3]\n",
        "target_label_array = [0,1,2,3,5]\n",
        "if(set(target_label_array).issubset(set(ideal_label_array))):\n",
        "  flag = 0\n",
        "else:    \n",
        "  flag = 1 \n",
        "  print(\"Error in label\", target_label_array ) \n",
        "'''"
      ],
      "execution_count": null,
      "outputs": []
    },
    {
      "cell_type": "code",
      "metadata": {
        "id": "0qGXBC0LgOVp",
        "colab": {
          "base_uri": "https://localhost:8080/"
        },
        "outputId": "1c233535-64a4-4c09-e7ad-3d78f9c19ea3"
      },
      "source": [
        "import os\n",
        "import numpy as np\n",
        "import cv2\n",
        "\n",
        "'''\n",
        "older ir images from shailesh's drive\n",
        "input_dir = \"/content/drive/MyDrive/PhD/IRLabeledDataset/ir_train_images_4_resized\" # directory containing input images\n",
        "target_dir = \"/content/drive/MyDrive/PhD/IRLabeledDataset/ir_train_masks_4_resized_relabel_only3wasrclasses\" # directory containing segmented images\n",
        "'''\n",
        "input_dir = \"/content/drive/MyDrive/IRImageTrainingDataset/ir_train_images_resized_colored_291_images\" # directory containing input images\n",
        "target_dir = \"/content/drive/MyDrive/IRImageTrainingDataset/ir_train_masks_resized_relabeled_291_images\" # directory containing segmented images\n",
        "\n",
        "\n",
        "img_size = (256, 320) #it's height and width. it's a 1/2 sized image from the original image from segment.ai\n",
        "num_classes = 3\n",
        "batch_size = 10\n",
        "\n",
        "# check for distinct label values in all masked files \n",
        "\n",
        "input_img_paths = sorted(\n",
        "    [\n",
        "        os.path.join(input_dir, fname)\n",
        "        for fname in os.listdir(input_dir)\n",
        "        if fname.endswith(\".png\")\n",
        "    ]\n",
        ")\n",
        "target_img_paths = sorted(\n",
        "    [\n",
        "        os.path.join(target_dir, fname)\n",
        "        for fname in os.listdir(target_dir)\n",
        "        if fname.endswith(\".png\") and not fname.startswith(\".\")\n",
        "    ]\n",
        ")\n",
        "\n",
        "#prints how many files are in the batch\n",
        "print(\"Number of samples:\", len(input_img_paths))\n",
        "\n",
        "#prints the name of 10 sets of input and labeled file\n",
        "for input_path, target_path in zip(input_img_paths[:10], target_img_paths[:10]):\n",
        "    print(input_path, \"|\", target_path)\n",
        "\n",
        "#below code checks if the labels are in the 1 through 3 range (4 classes - sky,water,object,background). \n",
        "#Because if not, then model training gives a NAN error.\n",
        "#it displays the label file that has an error, and the values of the label\n",
        "ideal_label_array = [0,1,2] # depends on the number of classes\n",
        "flag = 0 \n",
        "for target_path in (target_img_paths):\n",
        "    target_label_array = (np.unique(cv2.imread(target_path,cv2.IMREAD_UNCHANGED)))\n",
        "    if(set(target_label_array).issubset(set(ideal_label_array))):\n",
        "       flag +=1\n",
        "       #print(\"good label\", flag)\n",
        "    else:    \n",
        "       flag +=1\n",
        "       print(\"Error in label\", flag,target_path,target_label_array )  \n",
        "\n"
      ],
      "execution_count": 3,
      "outputs": [
        {
          "output_type": "stream",
          "text": [
            "Number of samples: 670\n",
            "/content/drive/MyDrive/IRImageTrainingDataset/ir_train_images_resized_colored_291_images/1571161174.581624_resized_color.png | /content/drive/MyDrive/IRImageTrainingDataset/ir_train_masks_resized_relabeled_291_images/1571161174.581624_label_ground-truth_resized_relabeled_to3wasrclasses.png\n",
            "/content/drive/MyDrive/IRImageTrainingDataset/ir_train_images_resized_colored_291_images/1571161174.581624_resized_color_mirrored.png | /content/drive/MyDrive/IRImageTrainingDataset/ir_train_masks_resized_relabeled_291_images/1571161174.581624_label_ground-truth_resized_relabeled_to3wasrclasses_mirrored.png\n",
            "/content/drive/MyDrive/IRImageTrainingDataset/ir_train_images_resized_colored_291_images/1571161258.414889_resized_color.png | /content/drive/MyDrive/IRImageTrainingDataset/ir_train_masks_resized_relabeled_291_images/1571161258.414889_label_ground-truth_resized_relabeled_to3wasrclasses.png\n",
            "/content/drive/MyDrive/IRImageTrainingDataset/ir_train_images_resized_colored_291_images/1571161258.414889_resized_color_mirrored.png | /content/drive/MyDrive/IRImageTrainingDataset/ir_train_masks_resized_relabeled_291_images/1571161258.414889_label_ground-truth_resized_relabeled_to3wasrclasses_mirrored.png\n",
            "/content/drive/MyDrive/IRImageTrainingDataset/ir_train_images_resized_colored_291_images/1571161267.781607_resized_color.png | /content/drive/MyDrive/IRImageTrainingDataset/ir_train_masks_resized_relabeled_291_images/1571161267.781607_label_ground-truth_resized_relabeled_to3wasrclasses.png\n",
            "/content/drive/MyDrive/IRImageTrainingDataset/ir_train_images_resized_colored_291_images/1571161267.781607_resized_color_mirrored.png | /content/drive/MyDrive/IRImageTrainingDataset/ir_train_masks_resized_relabeled_291_images/1571161267.781607_label_ground-truth_resized_relabeled_to3wasrclasses_mirrored.png\n",
            "/content/drive/MyDrive/IRImageTrainingDataset/ir_train_images_resized_colored_291_images/1571161378.948094_resized_color.png | /content/drive/MyDrive/IRImageTrainingDataset/ir_train_masks_resized_relabeled_291_images/1571161378.948094_label_ground-truth_resized_relabeled_to3wasrclasses.png\n",
            "/content/drive/MyDrive/IRImageTrainingDataset/ir_train_images_resized_colored_291_images/1571161378.948094_resized_color_mirrored.png | /content/drive/MyDrive/IRImageTrainingDataset/ir_train_masks_resized_relabeled_291_images/1571161378.948094_label_ground-truth_resized_relabeled_to3wasrclasses_mirrored.png\n",
            "/content/drive/MyDrive/IRImageTrainingDataset/ir_train_images_resized_colored_291_images/1571161440.714693_resized_color.png | /content/drive/MyDrive/IRImageTrainingDataset/ir_train_masks_resized_relabeled_291_images/1571161440.714693_label_ground-truth_resized_relabeled_to3wasrclasses.png\n",
            "/content/drive/MyDrive/IRImageTrainingDataset/ir_train_images_resized_colored_291_images/1571161440.714693_resized_color_mirrored.png | /content/drive/MyDrive/IRImageTrainingDataset/ir_train_masks_resized_relabeled_291_images/1571161440.714693_label_ground-truth_resized_relabeled_to3wasrclasses_mirrored.png\n"
          ],
          "name": "stdout"
        }
      ]
    },
    {
      "cell_type": "markdown",
      "metadata": {
        "id": "xZxuEZuOgOVq"
      },
      "source": [
        "## What does one input image and corresponding segmentation mask look like?"
      ]
    },
    {
      "cell_type": "code",
      "metadata": {
        "id": "4qTygTjxLB_M"
      },
      "source": [
        "import cv2\n",
        "import tensorflow\n",
        "import numpy as np\n",
        "from tensorflow.keras.preprocessing.image import img_to_array\n",
        "import PIL\n",
        "\n",
        "img = cv2.imread('/content/drive/MyDrive/IRImageTrainingDataset/ir_train_images_resized_colored_291_images/1571161174.581624_resized_color_mirrored.png')\n",
        "print(img) \n",
        "img1 = cv2.imread('/content/drive/MyDrive/IRImageTrainingDataset/ir_train_masks_resized_relabeled_291_images/1571161174.581624_label_ground-truth_resized_relabeled_to3wasrclasses_mirrored.png', cv2.IMREAD_UNCHANGED)\n",
        "print(img1)\n",
        "print(img.shape) # height , width, color\n",
        "print(img1.shape)\n",
        "array1 = tensorflow.keras.preprocessing.image.img_to_array(img)\n",
        "print(array1) \n",
        "array2 = tensorflow.keras.preprocessing.image.img_to_array(img1)\n",
        "print(array2) \n",
        "print(np.unique(array1))\n",
        "print(np.unique(array2))\n",
        "print(tensorflow.keras.backend.epsilon())\n",
        "print(np.unique(cv2.imread('/content/drive/MyDrive/IRImageTrainingDataset/ir_train_images_resized_colored_291_images/1571161174.581624_resized_color_mirrored.png')))\n",
        "print(np.unique(cv2.imread('/content/drive/MyDrive/IRImageTrainingDataset/ir_train_masks_resized_relabeled_291_images/1571161174.581624_label_ground-truth_resized_relabeled_to3wasrclasses_mirrored.png',cv2.IMREAD_UNCHANGED)))\n"
      ],
      "execution_count": null,
      "outputs": []
    },
    {
      "cell_type": "code",
      "metadata": {
        "id": "6ucoLp1UgOVq"
      },
      "source": [
        "from IPython.display import Image, display\n",
        "from tensorflow.keras.preprocessing.image import load_img\n",
        "import PIL\n",
        "from PIL import ImageOps\n",
        "\n",
        "# Display input image #9\n",
        "display(Image(filename=input_img_paths[9]))\n",
        "\n",
        "# Display auto-contrast version of corresponding target (per-pixel categories)\n",
        "img = PIL.ImageOps.autocontrast(load_img(target_img_paths[9]))\n",
        "display(img)"
      ],
      "execution_count": null,
      "outputs": []
    },
    {
      "cell_type": "markdown",
      "metadata": {
        "id": "n26N4oURgOVq"
      },
      "source": [
        "## Prepare `Sequence` class to load & vectorize batches of data"
      ]
    },
    {
      "cell_type": "code",
      "metadata": {
        "id": "UvauKhqOgOVr"
      },
      "source": [
        "from tensorflow import keras\n",
        "import numpy as np\n",
        "from tensorflow.keras.preprocessing.image import load_img\n",
        "\n",
        "\n",
        "class OxfordPets(keras.utils.Sequence):\n",
        "    \"\"\"Helper to iterate over the data (as Numpy arrays).\"\"\"\n",
        "\n",
        "    def __init__(self, batch_size, img_size, input_img_paths, target_img_paths):\n",
        "        self.batch_size = batch_size\n",
        "        self.img_size = img_size\n",
        "        self.input_img_paths = input_img_paths\n",
        "        self.target_img_paths = target_img_paths\n",
        "\n",
        "    def __len__(self):\n",
        "        return len(self.target_img_paths) // self.batch_size\n",
        "\n",
        "    def __getitem__(self, idx):\n",
        "        \"\"\"Returns tuple (input, target) correspond to batch #idx.\"\"\"\n",
        "        i = idx * self.batch_size\n",
        "        batch_input_img_paths = self.input_img_paths[i : i + self.batch_size]\n",
        "        batch_target_img_paths = self.target_img_paths[i : i + self.batch_size]\n",
        "        x = np.zeros((self.batch_size,) + self.img_size + (3,), dtype=\"float32\")\n",
        "        for j, path in enumerate(batch_input_img_paths):\n",
        "            img = load_img(path, target_size=self.img_size)\n",
        "            x[j] = img\n",
        "        y = np.zeros((self.batch_size,) + self.img_size + (1,), dtype=\"uint8\")\n",
        "        for j, path in enumerate(batch_target_img_paths):\n",
        "            img = load_img(path, target_size=self.img_size, color_mode=\"grayscale\")\n",
        "            #in case we want to see if masked image have the right values\n",
        "            #print(tensorflow.keras.preprocessing.image.img_to_array(img))\n",
        "            y[j] = np.expand_dims(img, 2)\n",
        "            # Ground truth labels are 1, 2, 3. Subtract one to make them 0, 1, 2: \n",
        "            #if classes are 3, keras expects masked values to be 0,1,2 only. Cannot take 1,3,5. It checks numerically not just the number of masked values\n",
        "            #y[j] += 1 \n",
        "        return x, y\n"
      ],
      "execution_count": 4,
      "outputs": []
    },
    {
      "cell_type": "markdown",
      "metadata": {
        "id": "O844f7oDgOVr"
      },
      "source": [
        "## Prepare U-Net Xception-style model"
      ]
    },
    {
      "cell_type": "code",
      "metadata": {
        "id": "k-pfuOspgOVr",
        "colab": {
          "base_uri": "https://localhost:8080/"
        },
        "outputId": "eff5c413-8ca6-4cb2-99f8-4e3d61279a53"
      },
      "source": [
        "from tensorflow.keras import layers\n",
        "\n",
        "\n",
        "def get_model(img_size, num_classes):\n",
        "    inputs = keras.Input(shape=img_size + (3,))\n",
        "\n",
        "    ### [First half of the network: downsampling inputs] ###\n",
        "\n",
        "    # Entry block\n",
        "    x = layers.Conv2D(32, 3, strides=2 ,padding=\"same\",kernel_initializer = 'uniform')(inputs)\n",
        "    x = layers.BatchNormalization()(x)\n",
        "    x = layers.Activation(\"ReLU\")(x)\n",
        "\n",
        "    previous_block_activation = x  # Set aside residual\n",
        "\n",
        "    # Blocks 1, 2, 3 are identical apart from the feature depth.\n",
        "    for filters in [64, 128, 256]:\n",
        "        x = layers.Activation(\"ReLU\")(x)\n",
        "        x = layers.SeparableConv2D(filters, 3, padding=\"same\", kernel_initializer = 'uniform')(x)\n",
        "        x = layers.BatchNormalization()(x)\n",
        "\n",
        "        x = layers.Activation(\"ReLU\")(x)\n",
        "        x = layers.SeparableConv2D(filters, 3, padding=\"same\", kernel_initializer = 'uniform')(x)\n",
        "        x = layers.BatchNormalization()(x)\n",
        "\n",
        "        x = layers.MaxPooling2D(3, strides=2, padding=\"same\", )(x)\n",
        "\n",
        "        # Project residual\n",
        "        residual = layers.Conv2D(filters, 1, strides=2, padding=\"same\",  kernel_initializer = 'uniform')(\n",
        "            previous_block_activation\n",
        "        )\n",
        "        x = layers.add([x, residual])  # Add back residual\n",
        "        previous_block_activation = x  # Set aside next residual\n",
        "\n",
        "    ### [Second half of the network: upsampling inputs] ###\n",
        "\n",
        "    for filters in [256, 128, 64, 32]:\n",
        "        x = layers.Activation(\"ReLU\")(x)\n",
        "        x = layers.Conv2DTranspose(filters, 3,padding=\"same\")(x)\n",
        "        x = layers.BatchNormalization()(x)\n",
        "\n",
        "        x = layers.Activation(\"ReLU\")(x)\n",
        "        x = layers.Conv2DTranspose(filters, 3,padding=\"same\")(x)\n",
        "        x = layers.BatchNormalization()(x)\n",
        "\n",
        "        x = layers.UpSampling2D(2)(x)\n",
        "\n",
        "        # Project residual\n",
        "        residual = layers.UpSampling2D(2)(previous_block_activation)\n",
        "        residual = layers.Conv2D(filters, 1,padding=\"same\", kernel_initializer = 'uniform')(residual)\n",
        "        x = layers.add([x, residual])  # Add back residual\n",
        "        previous_block_activation = x  # Set aside next residual\n",
        "\n",
        "    # Add a per-pixel classification layer\n",
        "    outputs = layers.Conv2D(num_classes, 3, activation=\"softmax\", padding=\"same\",kernel_initializer = 'uniform')(x)\n",
        "\n",
        "    # Define the model\n",
        "    model = keras.Model(inputs, outputs)\n",
        "    return model\n",
        "\n",
        "\n",
        "# Free up RAM in case the model definition cells were run multiple times\n",
        "keras.backend.clear_session()\n",
        "\n",
        "# Build model\n",
        "model = get_model(img_size, num_classes)\n",
        "model.summary()"
      ],
      "execution_count": 5,
      "outputs": [
        {
          "output_type": "stream",
          "text": [
            "Model: \"model\"\n",
            "__________________________________________________________________________________________________\n",
            "Layer (type)                    Output Shape         Param #     Connected to                     \n",
            "==================================================================================================\n",
            "input_1 (InputLayer)            [(None, 256, 320, 3) 0                                            \n",
            "__________________________________________________________________________________________________\n",
            "conv2d (Conv2D)                 (None, 128, 160, 32) 896         input_1[0][0]                    \n",
            "__________________________________________________________________________________________________\n",
            "batch_normalization (BatchNorma (None, 128, 160, 32) 128         conv2d[0][0]                     \n",
            "__________________________________________________________________________________________________\n",
            "activation (Activation)         (None, 128, 160, 32) 0           batch_normalization[0][0]        \n",
            "__________________________________________________________________________________________________\n",
            "activation_1 (Activation)       (None, 128, 160, 32) 0           activation[0][0]                 \n",
            "__________________________________________________________________________________________________\n",
            "separable_conv2d (SeparableConv (None, 128, 160, 64) 2400        activation_1[0][0]               \n",
            "__________________________________________________________________________________________________\n",
            "batch_normalization_1 (BatchNor (None, 128, 160, 64) 256         separable_conv2d[0][0]           \n",
            "__________________________________________________________________________________________________\n",
            "activation_2 (Activation)       (None, 128, 160, 64) 0           batch_normalization_1[0][0]      \n",
            "__________________________________________________________________________________________________\n",
            "separable_conv2d_1 (SeparableCo (None, 128, 160, 64) 4736        activation_2[0][0]               \n",
            "__________________________________________________________________________________________________\n",
            "batch_normalization_2 (BatchNor (None, 128, 160, 64) 256         separable_conv2d_1[0][0]         \n",
            "__________________________________________________________________________________________________\n",
            "max_pooling2d (MaxPooling2D)    (None, 64, 80, 64)   0           batch_normalization_2[0][0]      \n",
            "__________________________________________________________________________________________________\n",
            "conv2d_1 (Conv2D)               (None, 64, 80, 64)   2112        activation[0][0]                 \n",
            "__________________________________________________________________________________________________\n",
            "add (Add)                       (None, 64, 80, 64)   0           max_pooling2d[0][0]              \n",
            "                                                                 conv2d_1[0][0]                   \n",
            "__________________________________________________________________________________________________\n",
            "activation_3 (Activation)       (None, 64, 80, 64)   0           add[0][0]                        \n",
            "__________________________________________________________________________________________________\n",
            "separable_conv2d_2 (SeparableCo (None, 64, 80, 128)  8896        activation_3[0][0]               \n",
            "__________________________________________________________________________________________________\n",
            "batch_normalization_3 (BatchNor (None, 64, 80, 128)  512         separable_conv2d_2[0][0]         \n",
            "__________________________________________________________________________________________________\n",
            "activation_4 (Activation)       (None, 64, 80, 128)  0           batch_normalization_3[0][0]      \n",
            "__________________________________________________________________________________________________\n",
            "separable_conv2d_3 (SeparableCo (None, 64, 80, 128)  17664       activation_4[0][0]               \n",
            "__________________________________________________________________________________________________\n",
            "batch_normalization_4 (BatchNor (None, 64, 80, 128)  512         separable_conv2d_3[0][0]         \n",
            "__________________________________________________________________________________________________\n",
            "max_pooling2d_1 (MaxPooling2D)  (None, 32, 40, 128)  0           batch_normalization_4[0][0]      \n",
            "__________________________________________________________________________________________________\n",
            "conv2d_2 (Conv2D)               (None, 32, 40, 128)  8320        add[0][0]                        \n",
            "__________________________________________________________________________________________________\n",
            "add_1 (Add)                     (None, 32, 40, 128)  0           max_pooling2d_1[0][0]            \n",
            "                                                                 conv2d_2[0][0]                   \n",
            "__________________________________________________________________________________________________\n",
            "activation_5 (Activation)       (None, 32, 40, 128)  0           add_1[0][0]                      \n",
            "__________________________________________________________________________________________________\n",
            "separable_conv2d_4 (SeparableCo (None, 32, 40, 256)  34176       activation_5[0][0]               \n",
            "__________________________________________________________________________________________________\n",
            "batch_normalization_5 (BatchNor (None, 32, 40, 256)  1024        separable_conv2d_4[0][0]         \n",
            "__________________________________________________________________________________________________\n",
            "activation_6 (Activation)       (None, 32, 40, 256)  0           batch_normalization_5[0][0]      \n",
            "__________________________________________________________________________________________________\n",
            "separable_conv2d_5 (SeparableCo (None, 32, 40, 256)  68096       activation_6[0][0]               \n",
            "__________________________________________________________________________________________________\n",
            "batch_normalization_6 (BatchNor (None, 32, 40, 256)  1024        separable_conv2d_5[0][0]         \n",
            "__________________________________________________________________________________________________\n",
            "max_pooling2d_2 (MaxPooling2D)  (None, 16, 20, 256)  0           batch_normalization_6[0][0]      \n",
            "__________________________________________________________________________________________________\n",
            "conv2d_3 (Conv2D)               (None, 16, 20, 256)  33024       add_1[0][0]                      \n",
            "__________________________________________________________________________________________________\n",
            "add_2 (Add)                     (None, 16, 20, 256)  0           max_pooling2d_2[0][0]            \n",
            "                                                                 conv2d_3[0][0]                   \n",
            "__________________________________________________________________________________________________\n",
            "activation_7 (Activation)       (None, 16, 20, 256)  0           add_2[0][0]                      \n",
            "__________________________________________________________________________________________________\n",
            "conv2d_transpose (Conv2DTranspo (None, 16, 20, 256)  590080      activation_7[0][0]               \n",
            "__________________________________________________________________________________________________\n",
            "batch_normalization_7 (BatchNor (None, 16, 20, 256)  1024        conv2d_transpose[0][0]           \n",
            "__________________________________________________________________________________________________\n",
            "activation_8 (Activation)       (None, 16, 20, 256)  0           batch_normalization_7[0][0]      \n",
            "__________________________________________________________________________________________________\n",
            "conv2d_transpose_1 (Conv2DTrans (None, 16, 20, 256)  590080      activation_8[0][0]               \n",
            "__________________________________________________________________________________________________\n",
            "batch_normalization_8 (BatchNor (None, 16, 20, 256)  1024        conv2d_transpose_1[0][0]         \n",
            "__________________________________________________________________________________________________\n",
            "up_sampling2d_1 (UpSampling2D)  (None, 32, 40, 256)  0           add_2[0][0]                      \n",
            "__________________________________________________________________________________________________\n",
            "up_sampling2d (UpSampling2D)    (None, 32, 40, 256)  0           batch_normalization_8[0][0]      \n",
            "__________________________________________________________________________________________________\n",
            "conv2d_4 (Conv2D)               (None, 32, 40, 256)  65792       up_sampling2d_1[0][0]            \n",
            "__________________________________________________________________________________________________\n",
            "add_3 (Add)                     (None, 32, 40, 256)  0           up_sampling2d[0][0]              \n",
            "                                                                 conv2d_4[0][0]                   \n",
            "__________________________________________________________________________________________________\n",
            "activation_9 (Activation)       (None, 32, 40, 256)  0           add_3[0][0]                      \n",
            "__________________________________________________________________________________________________\n",
            "conv2d_transpose_2 (Conv2DTrans (None, 32, 40, 128)  295040      activation_9[0][0]               \n",
            "__________________________________________________________________________________________________\n",
            "batch_normalization_9 (BatchNor (None, 32, 40, 128)  512         conv2d_transpose_2[0][0]         \n",
            "__________________________________________________________________________________________________\n",
            "activation_10 (Activation)      (None, 32, 40, 128)  0           batch_normalization_9[0][0]      \n",
            "__________________________________________________________________________________________________\n",
            "conv2d_transpose_3 (Conv2DTrans (None, 32, 40, 128)  147584      activation_10[0][0]              \n",
            "__________________________________________________________________________________________________\n",
            "batch_normalization_10 (BatchNo (None, 32, 40, 128)  512         conv2d_transpose_3[0][0]         \n",
            "__________________________________________________________________________________________________\n",
            "up_sampling2d_3 (UpSampling2D)  (None, 64, 80, 256)  0           add_3[0][0]                      \n",
            "__________________________________________________________________________________________________\n",
            "up_sampling2d_2 (UpSampling2D)  (None, 64, 80, 128)  0           batch_normalization_10[0][0]     \n",
            "__________________________________________________________________________________________________\n",
            "conv2d_5 (Conv2D)               (None, 64, 80, 128)  32896       up_sampling2d_3[0][0]            \n",
            "__________________________________________________________________________________________________\n",
            "add_4 (Add)                     (None, 64, 80, 128)  0           up_sampling2d_2[0][0]            \n",
            "                                                                 conv2d_5[0][0]                   \n",
            "__________________________________________________________________________________________________\n",
            "activation_11 (Activation)      (None, 64, 80, 128)  0           add_4[0][0]                      \n",
            "__________________________________________________________________________________________________\n",
            "conv2d_transpose_4 (Conv2DTrans (None, 64, 80, 64)   73792       activation_11[0][0]              \n",
            "__________________________________________________________________________________________________\n",
            "batch_normalization_11 (BatchNo (None, 64, 80, 64)   256         conv2d_transpose_4[0][0]         \n",
            "__________________________________________________________________________________________________\n",
            "activation_12 (Activation)      (None, 64, 80, 64)   0           batch_normalization_11[0][0]     \n",
            "__________________________________________________________________________________________________\n",
            "conv2d_transpose_5 (Conv2DTrans (None, 64, 80, 64)   36928       activation_12[0][0]              \n",
            "__________________________________________________________________________________________________\n",
            "batch_normalization_12 (BatchNo (None, 64, 80, 64)   256         conv2d_transpose_5[0][0]         \n",
            "__________________________________________________________________________________________________\n",
            "up_sampling2d_5 (UpSampling2D)  (None, 128, 160, 128 0           add_4[0][0]                      \n",
            "__________________________________________________________________________________________________\n",
            "up_sampling2d_4 (UpSampling2D)  (None, 128, 160, 64) 0           batch_normalization_12[0][0]     \n",
            "__________________________________________________________________________________________________\n",
            "conv2d_6 (Conv2D)               (None, 128, 160, 64) 8256        up_sampling2d_5[0][0]            \n",
            "__________________________________________________________________________________________________\n",
            "add_5 (Add)                     (None, 128, 160, 64) 0           up_sampling2d_4[0][0]            \n",
            "                                                                 conv2d_6[0][0]                   \n",
            "__________________________________________________________________________________________________\n",
            "activation_13 (Activation)      (None, 128, 160, 64) 0           add_5[0][0]                      \n",
            "__________________________________________________________________________________________________\n",
            "conv2d_transpose_6 (Conv2DTrans (None, 128, 160, 32) 18464       activation_13[0][0]              \n",
            "__________________________________________________________________________________________________\n",
            "batch_normalization_13 (BatchNo (None, 128, 160, 32) 128         conv2d_transpose_6[0][0]         \n",
            "__________________________________________________________________________________________________\n",
            "activation_14 (Activation)      (None, 128, 160, 32) 0           batch_normalization_13[0][0]     \n",
            "__________________________________________________________________________________________________\n",
            "conv2d_transpose_7 (Conv2DTrans (None, 128, 160, 32) 9248        activation_14[0][0]              \n",
            "__________________________________________________________________________________________________\n",
            "batch_normalization_14 (BatchNo (None, 128, 160, 32) 128         conv2d_transpose_7[0][0]         \n",
            "__________________________________________________________________________________________________\n",
            "up_sampling2d_7 (UpSampling2D)  (None, 256, 320, 64) 0           add_5[0][0]                      \n",
            "__________________________________________________________________________________________________\n",
            "up_sampling2d_6 (UpSampling2D)  (None, 256, 320, 32) 0           batch_normalization_14[0][0]     \n",
            "__________________________________________________________________________________________________\n",
            "conv2d_7 (Conv2D)               (None, 256, 320, 32) 2080        up_sampling2d_7[0][0]            \n",
            "__________________________________________________________________________________________________\n",
            "add_6 (Add)                     (None, 256, 320, 32) 0           up_sampling2d_6[0][0]            \n",
            "                                                                 conv2d_7[0][0]                   \n",
            "__________________________________________________________________________________________________\n",
            "conv2d_8 (Conv2D)               (None, 256, 320, 3)  867         add_6[0][0]                      \n",
            "==================================================================================================\n",
            "Total params: 2,058,979\n",
            "Trainable params: 2,055,203\n",
            "Non-trainable params: 3,776\n",
            "__________________________________________________________________________________________________\n"
          ],
          "name": "stdout"
        }
      ]
    },
    {
      "cell_type": "markdown",
      "metadata": {
        "id": "D88fKSmGgOVs"
      },
      "source": [
        "## Set aside a validation split"
      ]
    },
    {
      "cell_type": "code",
      "metadata": {
        "id": "2eukoj81gOVs"
      },
      "source": [
        "import random\n",
        "\n",
        "# Split our img paths into a training and a validation set\n",
        "val_samples = 5\n",
        "random.Random(1337).shuffle(input_img_paths)\n",
        "random.Random(1337).shuffle(target_img_paths)\n",
        "train_input_img_paths = input_img_paths[:-val_samples]\n",
        "train_target_img_paths = target_img_paths[:-val_samples]\n",
        "val_input_img_paths = input_img_paths[-val_samples:]\n",
        "val_target_img_paths = target_img_paths[-val_samples:]\n",
        "\n",
        "# Instantiate data Sequences for each split\n",
        "train_gen = OxfordPets(\n",
        "    batch_size, img_size, train_input_img_paths, train_target_img_paths\n",
        ")\n",
        "val_gen = OxfordPets(batch_size, img_size, val_input_img_paths, val_target_img_paths)"
      ],
      "execution_count": 6,
      "outputs": []
    },
    {
      "cell_type": "markdown",
      "metadata": {
        "id": "C9yf05kfgOVs"
      },
      "source": [
        "## Train the model"
      ]
    },
    {
      "cell_type": "code",
      "metadata": {
        "id": "g9Mgsn2PgOVt",
        "colab": {
          "base_uri": "https://localhost:8080/"
        },
        "outputId": "b8145318-3253-484d-b0af-73cbe34fddc3"
      },
      "source": [
        "# Configure the model for training.\n",
        "# We use the \"sparse\" version of categorical_crossentropy\n",
        "# because our target data is integers.\n",
        "\n",
        "import tensorflow as tf\n",
        "opt = keras.optimizers.Adam(learning_rate=0.001)\n",
        "model.compile(loss='sparse_categorical_crossentropy', optimizer=opt)\n",
        "\n",
        "#model.compile(optimizer=\"rmsprop\", loss=\"sparse_categorical_crossentropy\")\n",
        "\n",
        "callbacks = [\n",
        "    #commenting checkpoint because i am going to save the entire model and start with earlier model\n",
        "    #keras.callbacks.ModelCheckpoint(\"IR_1000images_he_normal_adam_softmax_relu_300_10_1.h5\", save_best_only=True),\n",
        "    tf.keras.callbacks.TensorBoard(log_dir='./logs')\n",
        "]\n",
        "\n",
        "# Train the model, doing validation at the end of each epoch. This will be the first time code. Thereafter, you first load the saved model and then train again\n",
        "epochs = 100\n",
        "model.fit(train_gen, epochs=epochs, validation_data=val_gen, callbacks=callbacks)\n",
        "\n",
        "# Save the model after training \n",
        "model.save(\"/content/drive/MyDrive/Models/UNet1.0\")\n",
        "\n",
        "# now load the model for the next run \n",
        "#reconstructed_model = keras.models.load_model(\"/content/drive/MyDrive/Models/UNet1.0\")\n",
        "\n",
        "# now re-train on the saved model - this will be from run2\n",
        "#epochs = 100\n",
        "#reconstructed_model.fit(train_gen, epochs=epochs, validation_data=val_gen, callbacks=callbacks)\n",
        "\n",
        "\n"
      ],
      "execution_count": 7,
      "outputs": [
        {
          "output_type": "stream",
          "text": [
            "/usr/local/lib/python3.7/dist-packages/tensorflow/python/keras/utils/generic_utils.py:497: CustomMaskWarning: Custom mask layers require a config and must override get_config. When loading, the custom mask layer must be passed to the custom_objects argument.\n",
            "  category=CustomMaskWarning)\n"
          ],
          "name": "stderr"
        },
        {
          "output_type": "stream",
          "text": [
            "Epoch 1/100\n",
            "66/66 [==============================] - 458s 7s/step - loss: 0.3103\n",
            "Epoch 2/100\n",
            "66/66 [==============================] - 10s 156ms/step - loss: 0.1626\n",
            "Epoch 3/100\n",
            "66/66 [==============================] - 10s 156ms/step - loss: 0.1281\n",
            "Epoch 4/100\n",
            "66/66 [==============================] - 10s 155ms/step - loss: 0.1309\n",
            "Epoch 5/100\n",
            "66/66 [==============================] - 10s 155ms/step - loss: 0.0964\n",
            "Epoch 6/100\n",
            "66/66 [==============================] - 10s 156ms/step - loss: 0.0802\n",
            "Epoch 7/100\n",
            "66/66 [==============================] - 10s 156ms/step - loss: 0.0642\n",
            "Epoch 8/100\n",
            "66/66 [==============================] - 10s 155ms/step - loss: 0.0602\n",
            "Epoch 9/100\n",
            "66/66 [==============================] - 10s 155ms/step - loss: 0.0519\n",
            "Epoch 10/100\n",
            "66/66 [==============================] - 10s 155ms/step - loss: 0.0479\n",
            "Epoch 11/100\n",
            "66/66 [==============================] - 10s 155ms/step - loss: 0.0444\n",
            "Epoch 12/100\n",
            "66/66 [==============================] - 10s 155ms/step - loss: 0.0424\n",
            "Epoch 13/100\n",
            "66/66 [==============================] - 10s 156ms/step - loss: 0.0399\n",
            "Epoch 14/100\n",
            "66/66 [==============================] - 10s 154ms/step - loss: 0.0438\n",
            "Epoch 15/100\n",
            "66/66 [==============================] - 10s 155ms/step - loss: 0.0959\n",
            "Epoch 16/100\n",
            "66/66 [==============================] - 10s 155ms/step - loss: 0.0654\n",
            "Epoch 17/100\n",
            "66/66 [==============================] - 10s 155ms/step - loss: 0.0433\n",
            "Epoch 18/100\n",
            "66/66 [==============================] - 10s 155ms/step - loss: 0.0401\n",
            "Epoch 19/100\n",
            "66/66 [==============================] - 10s 155ms/step - loss: 0.0359\n",
            "Epoch 20/100\n",
            "66/66 [==============================] - 10s 156ms/step - loss: 0.0346\n",
            "Epoch 21/100\n",
            "66/66 [==============================] - 10s 156ms/step - loss: 0.0336\n",
            "Epoch 22/100\n",
            "66/66 [==============================] - 10s 156ms/step - loss: 0.0328\n",
            "Epoch 23/100\n",
            "66/66 [==============================] - 10s 155ms/step - loss: 0.0311\n",
            "Epoch 24/100\n",
            "66/66 [==============================] - 10s 156ms/step - loss: 0.0309\n",
            "Epoch 25/100\n",
            "66/66 [==============================] - 10s 155ms/step - loss: 0.0298\n",
            "Epoch 26/100\n",
            "66/66 [==============================] - 10s 155ms/step - loss: 0.0294\n",
            "Epoch 27/100\n",
            "66/66 [==============================] - 10s 155ms/step - loss: 0.0289\n",
            "Epoch 28/100\n",
            "66/66 [==============================] - 10s 155ms/step - loss: 0.0284\n",
            "Epoch 29/100\n",
            "66/66 [==============================] - 10s 155ms/step - loss: 0.0279\n",
            "Epoch 30/100\n",
            "66/66 [==============================] - 10s 155ms/step - loss: 0.0267\n",
            "Epoch 31/100\n",
            "66/66 [==============================] - 10s 155ms/step - loss: 0.0267\n",
            "Epoch 32/100\n",
            "66/66 [==============================] - 10s 155ms/step - loss: 0.0265\n",
            "Epoch 33/100\n",
            "66/66 [==============================] - 10s 155ms/step - loss: 0.0257\n",
            "Epoch 34/100\n",
            "66/66 [==============================] - 10s 156ms/step - loss: 0.0260\n",
            "Epoch 35/100\n",
            "66/66 [==============================] - 10s 156ms/step - loss: 0.0252\n",
            "Epoch 36/100\n",
            "66/66 [==============================] - 10s 156ms/step - loss: 0.0246\n",
            "Epoch 37/100\n",
            "66/66 [==============================] - 10s 156ms/step - loss: 0.0243\n",
            "Epoch 38/100\n",
            "66/66 [==============================] - 10s 155ms/step - loss: 0.0242\n",
            "Epoch 39/100\n",
            "66/66 [==============================] - 10s 155ms/step - loss: 0.0242\n",
            "Epoch 40/100\n",
            "66/66 [==============================] - 10s 155ms/step - loss: 0.0235\n",
            "Epoch 41/100\n",
            "66/66 [==============================] - 10s 155ms/step - loss: 0.0227\n",
            "Epoch 42/100\n",
            "66/66 [==============================] - 10s 154ms/step - loss: 0.0224\n",
            "Epoch 43/100\n",
            "66/66 [==============================] - 10s 155ms/step - loss: 0.0218\n",
            "Epoch 44/100\n",
            "66/66 [==============================] - 10s 155ms/step - loss: 0.0221\n",
            "Epoch 45/100\n",
            "66/66 [==============================] - 10s 156ms/step - loss: 0.0218\n",
            "Epoch 46/100\n",
            "66/66 [==============================] - 10s 156ms/step - loss: 0.0216\n",
            "Epoch 47/100\n",
            "66/66 [==============================] - 10s 155ms/step - loss: 0.0230\n",
            "Epoch 48/100\n",
            "66/66 [==============================] - 10s 154ms/step - loss: 0.0214\n",
            "Epoch 49/100\n",
            "66/66 [==============================] - 10s 154ms/step - loss: 0.0211\n",
            "Epoch 50/100\n",
            "66/66 [==============================] - 10s 156ms/step - loss: 0.0202\n",
            "Epoch 51/100\n",
            "66/66 [==============================] - 10s 156ms/step - loss: 0.0192\n",
            "Epoch 52/100\n",
            "66/66 [==============================] - 10s 156ms/step - loss: 0.0191\n",
            "Epoch 53/100\n",
            "66/66 [==============================] - 10s 155ms/step - loss: 0.0190\n",
            "Epoch 54/100\n",
            "66/66 [==============================] - 10s 155ms/step - loss: 0.0209\n",
            "Epoch 55/100\n",
            "66/66 [==============================] - 10s 155ms/step - loss: 0.0199\n",
            "Epoch 56/100\n",
            "66/66 [==============================] - 10s 155ms/step - loss: 0.0202\n",
            "Epoch 57/100\n",
            "66/66 [==============================] - 10s 155ms/step - loss: 0.1968\n",
            "Epoch 58/100\n",
            "66/66 [==============================] - 10s 155ms/step - loss: 0.1524\n",
            "Epoch 59/100\n",
            "66/66 [==============================] - 10s 155ms/step - loss: 0.0894\n",
            "Epoch 60/100\n",
            "66/66 [==============================] - 10s 155ms/step - loss: 0.0743\n",
            "Epoch 61/100\n",
            "66/66 [==============================] - 10s 155ms/step - loss: 0.0666\n",
            "Epoch 62/100\n",
            "66/66 [==============================] - 10s 155ms/step - loss: 0.0554\n",
            "Epoch 63/100\n",
            "66/66 [==============================] - 10s 155ms/step - loss: 0.0453\n",
            "Epoch 64/100\n",
            "66/66 [==============================] - 10s 155ms/step - loss: 0.0413\n",
            "Epoch 65/100\n",
            "66/66 [==============================] - 10s 156ms/step - loss: 0.0386\n",
            "Epoch 66/100\n",
            "66/66 [==============================] - 10s 155ms/step - loss: 0.0366\n",
            "Epoch 67/100\n",
            "66/66 [==============================] - 10s 155ms/step - loss: 0.0346\n",
            "Epoch 68/100\n",
            "66/66 [==============================] - 10s 155ms/step - loss: 0.0328\n",
            "Epoch 69/100\n",
            "66/66 [==============================] - 10s 155ms/step - loss: 0.0318\n",
            "Epoch 70/100\n",
            "66/66 [==============================] - 10s 156ms/step - loss: 0.0307\n",
            "Epoch 71/100\n",
            "66/66 [==============================] - 10s 156ms/step - loss: 0.0300\n",
            "Epoch 72/100\n",
            "66/66 [==============================] - 10s 154ms/step - loss: 0.0291\n",
            "Epoch 73/100\n",
            "66/66 [==============================] - 10s 155ms/step - loss: 0.0289\n",
            "Epoch 74/100\n",
            "66/66 [==============================] - 10s 155ms/step - loss: 0.0287\n",
            "Epoch 75/100\n",
            "66/66 [==============================] - 10s 156ms/step - loss: 0.0827\n",
            "Epoch 76/100\n",
            "66/66 [==============================] - 10s 155ms/step - loss: 0.0465\n",
            "Epoch 77/100\n",
            "66/66 [==============================] - 10s 155ms/step - loss: 0.0410\n",
            "Epoch 78/100\n",
            "66/66 [==============================] - 10s 155ms/step - loss: 0.0418\n",
            "Epoch 79/100\n",
            "66/66 [==============================] - 10s 155ms/step - loss: 0.0321\n",
            "Epoch 80/100\n",
            "66/66 [==============================] - 10s 155ms/step - loss: 0.0292\n",
            "Epoch 81/100\n",
            "66/66 [==============================] - 10s 156ms/step - loss: 0.0272\n",
            "Epoch 82/100\n",
            "66/66 [==============================] - 10s 156ms/step - loss: 0.0263\n",
            "Epoch 83/100\n",
            "66/66 [==============================] - 10s 156ms/step - loss: 0.0254\n",
            "Epoch 84/100\n",
            "66/66 [==============================] - 10s 155ms/step - loss: 0.0249\n",
            "Epoch 85/100\n",
            "66/66 [==============================] - 10s 155ms/step - loss: 0.0245\n",
            "Epoch 86/100\n",
            "66/66 [==============================] - 10s 156ms/step - loss: 0.0244\n",
            "Epoch 87/100\n",
            "66/66 [==============================] - 10s 156ms/step - loss: 0.0234\n",
            "Epoch 88/100\n",
            "66/66 [==============================] - 10s 156ms/step - loss: 0.0233\n",
            "Epoch 89/100\n",
            "66/66 [==============================] - 10s 156ms/step - loss: 0.0227\n",
            "Epoch 90/100\n",
            "66/66 [==============================] - 10s 155ms/step - loss: 0.0224\n",
            "Epoch 91/100\n",
            "66/66 [==============================] - 10s 155ms/step - loss: 0.0227\n",
            "Epoch 92/100\n",
            "66/66 [==============================] - 10s 156ms/step - loss: 0.0218\n",
            "Epoch 93/100\n",
            "66/66 [==============================] - 10s 156ms/step - loss: 0.0208\n",
            "Epoch 94/100\n",
            "66/66 [==============================] - 10s 154ms/step - loss: 0.0205\n",
            "Epoch 95/100\n",
            "66/66 [==============================] - 10s 155ms/step - loss: 0.0209\n",
            "Epoch 96/100\n",
            "66/66 [==============================] - 10s 154ms/step - loss: 0.0205\n",
            "Epoch 97/100\n",
            "66/66 [==============================] - 10s 155ms/step - loss: 0.0200\n",
            "Epoch 98/100\n",
            "66/66 [==============================] - 10s 155ms/step - loss: 0.0205\n",
            "Epoch 99/100\n",
            "66/66 [==============================] - 10s 156ms/step - loss: 0.0197\n",
            "Epoch 100/100\n",
            "66/66 [==============================] - 10s 155ms/step - loss: 0.0196\n"
          ],
          "name": "stdout"
        },
        {
          "output_type": "stream",
          "text": [
            "WARNING:absl:Found untraced functions such as re_lu_layer_call_fn, re_lu_layer_call_and_return_conditional_losses, re_lu_1_layer_call_fn, re_lu_1_layer_call_and_return_conditional_losses, re_lu_2_layer_call_fn while saving (showing 5 of 75). These functions will not be directly callable after loading.\n",
            "/usr/local/lib/python3.7/dist-packages/tensorflow/python/keras/utils/generic_utils.py:497: CustomMaskWarning: Custom mask layers require a config and must override get_config. When loading, the custom mask layer must be passed to the custom_objects argument.\n",
            "  category=CustomMaskWarning)\n"
          ],
          "name": "stderr"
        },
        {
          "output_type": "stream",
          "text": [
            "INFO:tensorflow:Assets written to: /content/drive/MyDrive/Models/UNet1.0/assets\n"
          ],
          "name": "stdout"
        },
        {
          "output_type": "stream",
          "text": [
            "INFO:tensorflow:Assets written to: /content/drive/MyDrive/Models/UNet1.0/assets\n"
          ],
          "name": "stderr"
        }
      ]
    },
    {
      "cell_type": "markdown",
      "metadata": {
        "id": "8oKMJ1nFFneP"
      },
      "source": [
        "## Train the Model - Run 2"
      ]
    },
    {
      "cell_type": "code",
      "metadata": {
        "id": "rTQKN5E-Fkuj",
        "colab": {
          "base_uri": "https://localhost:8080/"
        },
        "outputId": "56cc9b8d-f4f1-436a-844a-4cea1cac8a31"
      },
      "source": [
        "# after the 1st run, we can just run from this step on (excluding the files etc)\n",
        "\n",
        "# now load the model for the next run \n",
        "reconstructed_model = keras.models.load_model(\"/content/drive/MyDrive/Models/UNet1.0\")\n",
        "\n",
        "# now re-train on the saved model - this will be from run2\n",
        "epochs = 100\n",
        "callbacks = [\n",
        "    tf.keras.callbacks.TensorBoard(log_dir='./logs')\n",
        "]\n",
        "reconstructed_model.fit(train_gen, epochs=epochs, validation_data=val_gen, callbacks=callbacks)\n",
        "\n",
        "# now save the model back ### REMEMBER : ONLY save the modle if you know your run is with good data. \n",
        "# ELSE it will spoil all the prior learning\n",
        "reconstructed_model.save(\"/content/drive/MyDrive/Models/UNet1.0\")"
      ],
      "execution_count": 9,
      "outputs": [
        {
          "output_type": "stream",
          "text": [
            "/usr/local/lib/python3.7/dist-packages/tensorflow/python/keras/utils/generic_utils.py:497: CustomMaskWarning: Custom mask layers require a config and must override get_config. When loading, the custom mask layer must be passed to the custom_objects argument.\n",
            "  category=CustomMaskWarning)\n"
          ],
          "name": "stderr"
        },
        {
          "output_type": "stream",
          "text": [
            "Epoch 1/100\n",
            "66/66 [==============================] - 13s 164ms/step - loss: 0.0334\n",
            "Epoch 2/100\n",
            "66/66 [==============================] - 10s 155ms/step - loss: 0.0299\n",
            "Epoch 3/100\n",
            "66/66 [==============================] - 10s 154ms/step - loss: 0.0217\n",
            "Epoch 4/100\n",
            "66/66 [==============================] - 10s 155ms/step - loss: 0.0188\n",
            "Epoch 5/100\n",
            "66/66 [==============================] - 10s 155ms/step - loss: 0.0169\n",
            "Epoch 6/100\n",
            "66/66 [==============================] - 10s 155ms/step - loss: 0.0160\n",
            "Epoch 7/100\n",
            "66/66 [==============================] - 10s 155ms/step - loss: 0.0151\n",
            "Epoch 8/100\n",
            "66/66 [==============================] - 10s 154ms/step - loss: 0.0140\n",
            "Epoch 9/100\n",
            "66/66 [==============================] - 10s 155ms/step - loss: 0.0137\n",
            "Epoch 10/100\n",
            "66/66 [==============================] - 10s 156ms/step - loss: 0.0135\n",
            "Epoch 11/100\n",
            "66/66 [==============================] - 10s 156ms/step - loss: 0.0124\n",
            "Epoch 12/100\n",
            "66/66 [==============================] - 10s 155ms/step - loss: 0.0117\n",
            "Epoch 13/100\n",
            "66/66 [==============================] - 10s 156ms/step - loss: 0.0116\n",
            "Epoch 14/100\n",
            "66/66 [==============================] - 10s 155ms/step - loss: 0.0111\n",
            "Epoch 15/100\n",
            "66/66 [==============================] - 10s 156ms/step - loss: 0.0112\n",
            "Epoch 16/100\n",
            "66/66 [==============================] - 10s 154ms/step - loss: 0.0113\n",
            "Epoch 17/100\n",
            "66/66 [==============================] - 10s 155ms/step - loss: 0.0112\n",
            "Epoch 18/100\n",
            "66/66 [==============================] - 10s 155ms/step - loss: 0.0104\n",
            "Epoch 19/100\n",
            "66/66 [==============================] - 10s 156ms/step - loss: 0.0105\n",
            "Epoch 20/100\n",
            "66/66 [==============================] - 10s 155ms/step - loss: 0.0108\n",
            "Epoch 21/100\n",
            "66/66 [==============================] - 10s 155ms/step - loss: 0.0109\n",
            "Epoch 22/100\n",
            "66/66 [==============================] - 10s 156ms/step - loss: 0.0111\n",
            "Epoch 23/100\n",
            "66/66 [==============================] - 10s 156ms/step - loss: 0.0103\n",
            "Epoch 24/100\n",
            "66/66 [==============================] - 10s 156ms/step - loss: 0.0102\n",
            "Epoch 25/100\n",
            "66/66 [==============================] - 10s 155ms/step - loss: 0.0094\n",
            "Epoch 26/100\n",
            "66/66 [==============================] - 10s 155ms/step - loss: 0.0096\n",
            "Epoch 27/100\n",
            "66/66 [==============================] - 10s 155ms/step - loss: 0.0103\n",
            "Epoch 28/100\n",
            "66/66 [==============================] - 10s 156ms/step - loss: 0.0096\n",
            "Epoch 29/100\n",
            "66/66 [==============================] - 10s 155ms/step - loss: 0.0091\n",
            "Epoch 30/100\n",
            "66/66 [==============================] - 10s 156ms/step - loss: 0.0087\n",
            "Epoch 31/100\n",
            "66/66 [==============================] - 10s 154ms/step - loss: 0.0086\n",
            "Epoch 32/100\n",
            "66/66 [==============================] - 10s 156ms/step - loss: 0.0094\n",
            "Epoch 33/100\n",
            "66/66 [==============================] - 10s 155ms/step - loss: 0.0094\n",
            "Epoch 34/100\n",
            "66/66 [==============================] - 10s 156ms/step - loss: 0.0094\n",
            "Epoch 35/100\n",
            "66/66 [==============================] - 10s 155ms/step - loss: 0.0088\n",
            "Epoch 36/100\n",
            "66/66 [==============================] - 10s 156ms/step - loss: 0.0093\n",
            "Epoch 37/100\n",
            "66/66 [==============================] - 10s 154ms/step - loss: 0.0089\n",
            "Epoch 38/100\n",
            "66/66 [==============================] - 10s 155ms/step - loss: 0.0092\n",
            "Epoch 39/100\n",
            "66/66 [==============================] - 10s 155ms/step - loss: 0.0088\n",
            "Epoch 40/100\n",
            "66/66 [==============================] - 10s 155ms/step - loss: 0.0089\n",
            "Epoch 41/100\n",
            "66/66 [==============================] - 10s 156ms/step - loss: 0.0088\n",
            "Epoch 42/100\n",
            "66/66 [==============================] - 10s 155ms/step - loss: 0.0095\n",
            "Epoch 43/100\n",
            "66/66 [==============================] - 10s 155ms/step - loss: 0.0087\n",
            "Epoch 44/100\n",
            "66/66 [==============================] - 10s 155ms/step - loss: 0.0084\n",
            "Epoch 45/100\n",
            "66/66 [==============================] - 10s 155ms/step - loss: 0.0081\n",
            "Epoch 46/100\n",
            "66/66 [==============================] - 10s 155ms/step - loss: 0.0076\n",
            "Epoch 47/100\n",
            "66/66 [==============================] - 10s 155ms/step - loss: 0.0075\n",
            "Epoch 48/100\n",
            "66/66 [==============================] - 10s 156ms/step - loss: 0.0074\n",
            "Epoch 49/100\n",
            "66/66 [==============================] - 10s 156ms/step - loss: 0.0074\n",
            "Epoch 50/100\n",
            "66/66 [==============================] - 10s 157ms/step - loss: 0.0076\n",
            "Epoch 51/100\n",
            "66/66 [==============================] - 10s 157ms/step - loss: 0.0078\n",
            "Epoch 52/100\n",
            "66/66 [==============================] - 10s 157ms/step - loss: 0.0081\n",
            "Epoch 53/100\n",
            "66/66 [==============================] - 10s 156ms/step - loss: 0.0078\n",
            "Epoch 54/100\n",
            "66/66 [==============================] - 10s 156ms/step - loss: 0.0079\n",
            "Epoch 55/100\n",
            "66/66 [==============================] - 10s 156ms/step - loss: 0.0075\n",
            "Epoch 56/100\n",
            "66/66 [==============================] - 10s 155ms/step - loss: 0.0073\n",
            "Epoch 57/100\n",
            "66/66 [==============================] - 10s 156ms/step - loss: 0.0076\n",
            "Epoch 58/100\n",
            "66/66 [==============================] - 10s 156ms/step - loss: 0.0077\n",
            "Epoch 59/100\n",
            "66/66 [==============================] - 10s 156ms/step - loss: 0.0079\n",
            "Epoch 60/100\n",
            "66/66 [==============================] - 10s 155ms/step - loss: 0.0079\n",
            "Epoch 61/100\n",
            "66/66 [==============================] - 10s 155ms/step - loss: 0.0079\n",
            "Epoch 62/100\n",
            "66/66 [==============================] - 10s 155ms/step - loss: 0.0073\n",
            "Epoch 63/100\n",
            "66/66 [==============================] - 10s 156ms/step - loss: 0.0070\n",
            "Epoch 64/100\n",
            "66/66 [==============================] - 10s 156ms/step - loss: 0.0072\n",
            "Epoch 65/100\n",
            "66/66 [==============================] - 10s 155ms/step - loss: 0.0070\n",
            "Epoch 66/100\n",
            "66/66 [==============================] - 10s 155ms/step - loss: 0.0069\n",
            "Epoch 67/100\n",
            "66/66 [==============================] - 10s 155ms/step - loss: 0.0068\n",
            "Epoch 68/100\n",
            "66/66 [==============================] - 10s 156ms/step - loss: 0.0072\n",
            "Epoch 69/100\n",
            "66/66 [==============================] - 10s 155ms/step - loss: 0.0078\n",
            "Epoch 70/100\n",
            "66/66 [==============================] - 10s 155ms/step - loss: 0.0077\n",
            "Epoch 71/100\n",
            "66/66 [==============================] - 10s 155ms/step - loss: 0.0076\n",
            "Epoch 72/100\n",
            "66/66 [==============================] - 10s 155ms/step - loss: 0.0072\n",
            "Epoch 73/100\n",
            "66/66 [==============================] - 10s 156ms/step - loss: 0.0071\n",
            "Epoch 74/100\n",
            "66/66 [==============================] - 10s 155ms/step - loss: 0.0069\n",
            "Epoch 75/100\n",
            "66/66 [==============================] - 10s 155ms/step - loss: 0.0065\n",
            "Epoch 76/100\n",
            "66/66 [==============================] - 10s 156ms/step - loss: 0.0068\n",
            "Epoch 77/100\n",
            "66/66 [==============================] - 10s 154ms/step - loss: 0.0069\n",
            "Epoch 78/100\n",
            "66/66 [==============================] - 10s 156ms/step - loss: 0.0073\n",
            "Epoch 79/100\n",
            "66/66 [==============================] - 10s 156ms/step - loss: 0.0069\n",
            "Epoch 80/100\n",
            "66/66 [==============================] - 10s 154ms/step - loss: 0.0063\n",
            "Epoch 81/100\n",
            "66/66 [==============================] - 10s 156ms/step - loss: 0.0061\n",
            "Epoch 82/100\n",
            "66/66 [==============================] - 10s 156ms/step - loss: 0.0062\n",
            "Epoch 83/100\n",
            "66/66 [==============================] - 10s 156ms/step - loss: 0.0063\n",
            "Epoch 84/100\n",
            "66/66 [==============================] - 10s 156ms/step - loss: 0.0071\n",
            "Epoch 85/100\n",
            "66/66 [==============================] - 10s 156ms/step - loss: 0.0068\n",
            "Epoch 86/100\n",
            "66/66 [==============================] - 10s 155ms/step - loss: 0.0062\n",
            "Epoch 87/100\n",
            "66/66 [==============================] - 10s 156ms/step - loss: 0.0061\n",
            "Epoch 88/100\n",
            "66/66 [==============================] - 10s 156ms/step - loss: 0.0069\n",
            "Epoch 89/100\n",
            "66/66 [==============================] - 10s 156ms/step - loss: 0.0069\n",
            "Epoch 90/100\n",
            "66/66 [==============================] - 10s 155ms/step - loss: 0.0072\n",
            "Epoch 91/100\n",
            "66/66 [==============================] - 10s 155ms/step - loss: 0.0066\n",
            "Epoch 92/100\n",
            "66/66 [==============================] - 10s 155ms/step - loss: 0.0065\n",
            "Epoch 93/100\n",
            "66/66 [==============================] - 10s 155ms/step - loss: 0.0063\n",
            "Epoch 94/100\n",
            "66/66 [==============================] - 10s 156ms/step - loss: 0.0061\n",
            "Epoch 95/100\n",
            "66/66 [==============================] - 10s 155ms/step - loss: 0.0060\n",
            "Epoch 96/100\n",
            "66/66 [==============================] - 10s 155ms/step - loss: 0.0059\n",
            "Epoch 97/100\n",
            "66/66 [==============================] - 10s 154ms/step - loss: 0.0058\n",
            "Epoch 98/100\n",
            "66/66 [==============================] - 10s 156ms/step - loss: 0.0057\n",
            "Epoch 99/100\n",
            "66/66 [==============================] - 10s 155ms/step - loss: 0.0060\n",
            "Epoch 100/100\n",
            "66/66 [==============================] - 10s 156ms/step - loss: 0.0058\n"
          ],
          "name": "stdout"
        },
        {
          "output_type": "stream",
          "text": [
            "WARNING:absl:Found untraced functions such as re_lu_layer_call_fn, re_lu_layer_call_and_return_conditional_losses, re_lu_1_layer_call_fn, re_lu_1_layer_call_and_return_conditional_losses, re_lu_2_layer_call_fn while saving (showing 5 of 75). These functions will not be directly callable after loading.\n",
            "/usr/local/lib/python3.7/dist-packages/tensorflow/python/keras/utils/generic_utils.py:497: CustomMaskWarning: Custom mask layers require a config and must override get_config. When loading, the custom mask layer must be passed to the custom_objects argument.\n",
            "  category=CustomMaskWarning)\n"
          ],
          "name": "stderr"
        },
        {
          "output_type": "stream",
          "text": [
            "INFO:tensorflow:Assets written to: /content/drive/MyDrive/Models/UNet1.0/assets\n"
          ],
          "name": "stdout"
        },
        {
          "output_type": "stream",
          "text": [
            "INFO:tensorflow:Assets written to: /content/drive/MyDrive/Models/UNet1.0/assets\n"
          ],
          "name": "stderr"
        }
      ]
    },
    {
      "cell_type": "markdown",
      "metadata": {
        "id": "D9gYCGN4gOVt"
      },
      "source": [
        "## Visualize predictions"
      ]
    },
    {
      "cell_type": "code",
      "metadata": {
        "id": "4Ej7kljfMbOD"
      },
      "source": [
        "print(val_input_img_paths)\n",
        "print(val_target_img_paths)\n",
        "print(type(val_input_img_paths))"
      ],
      "execution_count": null,
      "outputs": []
    },
    {
      "cell_type": "code",
      "metadata": {
        "id": "u11wWRX4gOVt",
        "colab": {
          "base_uri": "https://localhost:8080/",
          "height": 921
        },
        "outputId": "66e58826-7165-4cfa-95ec-f4a20192b91e"
      },
      "source": [
        "# Generate predictions for all images in the validation set\n",
        "\n",
        "from IPython.display import Image, display\n",
        "import PIL\n",
        "from PIL import ImageOps\n",
        "#from PIL import Image\n",
        "\n",
        "#val_gen = OxfordPets(batch_size, img_size, val_input_img_paths, val_target_img_paths)\n",
        "#val_input_img_paths_test = ['/content/drive/MyDrive/poorlighting_brightlight_resized/1603208980.690948_resized.png']\n",
        "val_input_img_paths_test = ['/content/drive/MyDrive/poorlighting_brightlight_resized/1603208980.690948_resized.png']\n",
        "val_target_img_paths_test = ['/content/drive/MyDrive/IRImageInferenceDataset/IR-labeled-image/1622942984.171934_label_ground-truth_resized_relabeled_to3wasrclasses.png']\n",
        "\n",
        "\n",
        "#print(type(val_input_img_paths_test))\n",
        "\n",
        "val_gen = OxfordPets(1, img_size, val_input_img_paths_test, val_target_img_paths_test)\n",
        "# we will use model for the 1st run. and then reconstructed_model from run 2\n",
        "#val_preds = model.predict(val_gen)\n",
        "\n",
        "#predict using the saved model - run 2 on \n",
        "val_preds = reconstructed_model.predict(val_gen)\n",
        "\n",
        "\n",
        "def display_mask(i):\n",
        "    \"\"\"Quick utility to display a model's prediction. we need color masked images, so displaying both color and black and white\"\"\"\n",
        "    #label_colours = [(59,193,246), (222,168,51), (161,78,69), (177, 168, 52), (238, 159, 231), (240, 244, 74), (160, 253, 134)]  \n",
        "    label_colours = [(246,193,59), (51,168,222), (69,78,161), (52, 168, 177), (231, 159, 238), (74, 244, 240), (134, 253, 160)]  \n",
        "    mask = np.argmax(val_preds[i], axis=-1)\n",
        "    mask = np.expand_dims(mask, axis=-1)\n",
        "    print(np.shape(mask))\n",
        "    print(len(mask[i, 0]))\n",
        "    print(len(mask[i]))\n",
        "\n",
        "    img1 = PIL.Image.new('RGB', (320, 256))\n",
        "    pixels = img1.load()\n",
        "    print(type(pixels))\n",
        "    print(pixels[0,0])\n",
        "    for j_, j in enumerate(mask[:, :, 0]):\n",
        "        #print (j_, j)\n",
        "        for k_, k in enumerate(j):\n",
        "              #print(k_, k)\n",
        "              if k < num_classes:\n",
        "                  pixels[k_,j_] = label_colours[k]\n",
        "    output = np.array(img1)\n",
        "    \n",
        "    print(\"this is the colored inferred image\")\n",
        "    display(img1)\n",
        "  \n",
        "\n",
        "    print(\"this is the gray inferred image\")\n",
        "    img = PIL.ImageOps.autocontrast(keras.preprocessing.image.array_to_img(mask))\n",
        "    display(img)\n",
        "\n",
        "\n",
        "# Display results for validation image #40. it uses val_inpit_images. so will only pick from the ones that we have kept for validation.\n",
        "i = 0\n",
        "\n",
        "# Display input image\n",
        "print(\"this is the raw image\")\n",
        "display(Image(filename=val_input_img_paths_test[i]))\n",
        "\n",
        "# Display ground-truth target mask\n",
        "#print(\"this is the labeled image\")\n",
        "#img = PIL.ImageOps.autocontrast(load_img(val_target_img_paths_test[i]))\n",
        "#display(img)\n",
        "\n",
        "# Display mask predicted by our model\n",
        "display_mask(i)  # Note that the model only sees inputs at 150x150."
      ],
      "execution_count": null,
      "outputs": [
        {
          "output_type": "stream",
          "text": [
            "this is the raw image\n"
          ],
          "name": "stdout"
        },
        {
          "output_type": "display_data",
          "data": {
            "image/png": "[encoded data removed]",
            "text/plain": [
              "<IPython.core.display.Image object>"
            ]
          },
          "metadata": {
            "tags": []
          }
        },
        {
          "output_type": "stream",
          "text": [
            "(256, 320, 1)\n",
            "1\n",
            "320\n",
            "<class 'PixelAccess'>\n",
            "(0, 0, 0)\n",
            "this is the colored inferred image\n"
          ],
          "name": "stdout"
        },
        {
          "output_type": "display_data",
          "data": {
            "image/png": "[encoded data removed]",
            "text/plain": [
              "<PIL.Image.Image image mode=RGB size=320x256 at 0x7F0C26AE22D0>"
            ]
          },
          "metadata": {
            "tags": []
          }
        },
        {
          "output_type": "stream",
          "text": [
            "this is the gray inferred image\n"
          ],
          "name": "stdout"
        },
        {
          "output_type": "display_data",
          "data": {
            "image/png": "[encoded data removed]",
            "text/plain": [
              "<PIL.Image.Image image mode=L size=320x256 at 0x7F0C26AE2550>"
            ]
          },
          "metadata": {
            "tags": []
          }
        }
      ]
    },
    {
      "cell_type": "code",
      "metadata": {
        "id": "zY8aN3EA3bCw"
      },
      "source": [
        "#visualize the architecture\n",
        "from keras.models import Sequential\n",
        "from keras.layers import Dense\n",
        "from keras.utils.vis_utils import plot_model\n",
        "model = Sequential()\n",
        "model.add(Dense(2, input_dim=1, activation='relu'))\n",
        "model.add(Dense(1, activation='softmax'))\n",
        "plot_model(model, to_file='/content/IR_1000images_he_normal_adam_softmax_relu_100_10-h5-modelplot.png', show_shapes=True, show_layer_names=True)"
      ],
      "execution_count": null,
      "outputs": []
    },
    {
      "cell_type": "code",
      "metadata": {
        "id": "RWkR-8Tu4IVb"
      },
      "source": [
        "# to evaluate the weight tensors\n",
        "from keras import backend as K\n",
        "\n",
        "for w in model.trainable_weights:\n",
        "    print(K.eval(w))"
      ],
      "execution_count": null,
      "outputs": []
    },
    {
      "cell_type": "code",
      "metadata": {
        "id": "hkxOGK0G5EYh"
      },
      "source": [
        "# visualize the model in tensorboard - we will use the log files created in checkpoint  \n",
        "!kill 587\n",
        "\n",
        "%load_ext tensorboard\n",
        "import datetime, os\n",
        "\n",
        "%tensorboard --logdir logs \n",
        "\n",
        " \n",
        " "
      ],
      "execution_count": null,
      "outputs": []
    }
  ]
}